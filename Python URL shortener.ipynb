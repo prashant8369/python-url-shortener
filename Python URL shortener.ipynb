{
 "cells": [
  {
   "cell_type": "code",
   "execution_count": 1,
   "id": "21c3f0f6",
   "metadata": {},
   "outputs": [
    {
     "name": "stdout",
     "output_type": "stream",
     "text": [
      "Shortened URL: http://yourdomain.com/oCN3vB\n",
      "Original URL: https://www.example.com/very/long/url/that/needs/shortening\n"
     ]
    }
   ],
   "source": [
    "import string\n",
    "import random\n",
    "import sqlite3\n",
    "\n",
    "# Initialize the database\n",
    "conn = sqlite3.connect('url_shortener.db')\n",
    "cursor = conn.cursor()\n",
    "cursor.execute('''\n",
    "    CREATE TABLE IF NOT EXISTS urls\n",
    "    (id INTEGER PRIMARY KEY AUTOINCREMENT,\n",
    "     original_url TEXT NOT NULL,\n",
    "     short_code TEXT NOT NULL UNIQUE)\n",
    "''')\n",
    "conn.commit()\n",
    "\n",
    "def generate_short_code(length=6):\n",
    "    \"\"\"Generate a random short code\"\"\"\n",
    "    characters = string.ascii_letters + string.digits\n",
    "    return ''.join(random.choice(characters) for _ in range(length))\n",
    "\n",
    "def shorten_url(original_url):\n",
    "    \"\"\"Shorten a given URL\"\"\"\n",
    "    cursor.execute(\"SELECT short_code FROM urls WHERE original_url=?\", (original_url,))\n",
    "    result = cursor.fetchone()\n",
    "    \n",
    "    if result:\n",
    "        return result[0]\n",
    "    \n",
    "    while True:\n",
    "        short_code = generate_short_code()\n",
    "        try:\n",
    "            cursor.execute(\"INSERT INTO urls (original_url, short_code) VALUES (?, ?)\",\n",
    "                           (original_url, short_code))\n",
    "            conn.commit()\n",
    "            return short_code\n",
    "        except sqlite3.IntegrityError:\n",
    "            \n",
    "            continue\n",
    "\n",
    "def get_original_url(short_code):\n",
    "    \"\"\"Retrieve the original URL for a given short code\"\"\"\n",
    "    cursor.execute(\"SELECT original_url FROM urls WHERE short_code=?\", (short_code,))\n",
    "    result = cursor.fetchone()\n",
    "    \n",
    "    if result:\n",
    "        return result[0]\n",
    "    else:\n",
    "        return None\n",
    "\n",
    "# Example usage\n",
    "if __name__ == \"__main__\":\n",
    "    # Shorten a URL\n",
    "    original_url = \"https://www.example.com/very/long/url/that/needs/shortening\"\n",
    "    short_code = shorten_url(original_url)\n",
    "    print(f\"Shortened URL: http://yourdomain.com/{short_code}\")\n",
    "    \n",
    "    # Retrieve original URL\n",
    "    retrieved_url = get_original_url(short_code)\n",
    "    print(f\"Original URL: {retrieved_url}\")\n",
    "\n",
    "\n",
    "conn.close()"
   ]
  },
  {
   "cell_type": "code",
   "execution_count": null,
   "id": "ef7da03d",
   "metadata": {},
   "outputs": [],
   "source": []
  }
 ],
 "metadata": {
  "kernelspec": {
   "display_name": "Python 3 (ipykernel)",
   "language": "python",
   "name": "python3"
  },
  "language_info": {
   "codemirror_mode": {
    "name": "ipython",
    "version": 3
   },
   "file_extension": ".py",
   "mimetype": "text/x-python",
   "name": "python",
   "nbconvert_exporter": "python",
   "pygments_lexer": "ipython3",
   "version": "3.9.12"
  }
 },
 "nbformat": 4,
 "nbformat_minor": 5
}
